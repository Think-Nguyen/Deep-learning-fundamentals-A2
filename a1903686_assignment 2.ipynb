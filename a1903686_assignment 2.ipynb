{
  "nbformat": 4,
  "nbformat_minor": 0,
  "metadata": {
    "colab": {
      "provenance": [],
      "gpuType": "T4"
    },
    "kernelspec": {
      "name": "python3",
      "display_name": "Python 3"
    },
    "language_info": {
      "name": "python"
    },
    "accelerator": "GPU"
  },
  "cells": [
    {
      "cell_type": "markdown",
      "source": [
        "# Assignment 2. Deep Learning Fundamentals"
      ],
      "metadata": {
        "id": "FPwzb-aFhb35"
      }
    },
    {
      "cell_type": "code",
      "execution_count": 1,
      "metadata": {
        "id": "Dt1TZ0ddU_je"
      },
      "outputs": [],
      "source": [
        "# Import necessary libraries\n",
        "import os\n",
        "import torch\n",
        "import torch.nn as nn\n",
        "import torch.optim as optim\n",
        "from torchvision import models, transforms, datasets\n",
        "from torch.utils.data import Dataset, DataLoader, random_split\n",
        "import copy\n",
        "from PIL import Image\n",
        "\n",
        "import numpy as np\n",
        "import pandas as pd\n",
        "import random\n",
        "import seaborn as sns\n",
        "import matplotlib.pyplot as plt\n",
        "\n",
        "from sklearn.metrics import accuracy_score, precision_score, recall_score, f1_score, classification_report, confusion_matrix\n",
        "\n",
        "# Device configuration\n",
        "device = torch.device(\"cuda\" if torch.cuda.is_available() else \"cpu\")\n",
        "\n",
        "import warnings\n",
        "warnings.filterwarnings(\"ignore\")  # Suppress all warnings"
      ]
    },
    {
      "cell_type": "markdown",
      "source": [
        "## 1. Load data"
      ],
      "metadata": {
        "id": "EqgpGtEfd-Vx"
      }
    },
    {
      "cell_type": "code",
      "source": [
        "# Define data transformations\n",
        "transform_train = transforms.Compose([\n",
        "    transforms.RandomCrop(32, padding=4),\n",
        "    transforms.RandomHorizontalFlip(),\n",
        "    transforms.ToTensor(),\n",
        "    transforms.Normalize((0.4914, 0.4822, 0.4465), (0.247, 0.2435, 0.2616))\n",
        "])\n",
        "\n",
        "transform_test = transforms.Compose([\n",
        "    transforms.ToTensor(),\n",
        "    transforms.Normalize((0.4914, 0.4822, 0.4465), (0.247, 0.2435, 0.2616))\n",
        "])\n",
        "\n",
        "# Load CIFAR-10 dataset and split into training and validation sets\n",
        "train_val_data = datasets.CIFAR10(root='./data', train=True, download=True, transform=transform_train)\n",
        "test_data = datasets.CIFAR10(root='./data', train=False, download=True, transform=transform_test)"
      ],
      "metadata": {
        "colab": {
          "base_uri": "https://localhost:8080/"
        },
        "id": "iNo32td6WEYB",
        "outputId": "c716e434-b50d-43d9-a337-8e2f3b6bbae1"
      },
      "execution_count": 2,
      "outputs": [
        {
          "output_type": "stream",
          "name": "stdout",
          "text": [
            "Downloading https://www.cs.toronto.edu/~kriz/cifar-10-python.tar.gz to ./data/cifar-10-python.tar.gz\n"
          ]
        },
        {
          "output_type": "stream",
          "name": "stderr",
          "text": [
            "100%|██████████| 170M/170M [00:04<00:00, 34.9MB/s]\n"
          ]
        },
        {
          "output_type": "stream",
          "name": "stdout",
          "text": [
            "Extracting ./data/cifar-10-python.tar.gz to ./data\n",
            "Files already downloaded and verified\n"
          ]
        }
      ]
    },
    {
      "cell_type": "code",
      "source": [
        "num_workers = os.cpu_count()\n",
        "\n",
        "train_size = int(0.8 * len(train_val_data))\n",
        "val_size = len(train_val_data) - train_size\n",
        "train_data, val_data = random_split(train_val_data, [train_size, val_size])\n",
        "\n",
        "train_loader = DataLoader(train_data, batch_size=200, num_workers=num_workers, shuffle=True, pin_memory=True)\n",
        "val_loader = DataLoader(val_data, batch_size=200, num_workers=num_workers, shuffle=False, pin_memory=True)\n",
        "test_loader = DataLoader(test_data, batch_size=200, num_workers=num_workers, shuffle=False, pin_memory=True)"
      ],
      "metadata": {
        "id": "cnZZT4fbWMnQ"
      },
      "execution_count": 3,
      "outputs": []
    },
    {
      "cell_type": "markdown",
      "source": [
        "## 2. Exploratory Data Analysis"
      ],
      "metadata": {
        "id": "ItAZZd3Ssie6"
      }
    },
    {
      "cell_type": "code",
      "source": [
        "# See the classes\n",
        "train_val_data.classes"
      ],
      "metadata": {
        "colab": {
          "base_uri": "https://localhost:8080/"
        },
        "id": "93v7tglHsiHx",
        "outputId": "52ebe387-a6f0-48f2-e653-8a3421609a50"
      },
      "execution_count": 4,
      "outputs": [
        {
          "output_type": "execute_result",
          "data": {
            "text/plain": [
              "['airplane',\n",
              " 'automobile',\n",
              " 'bird',\n",
              " 'cat',\n",
              " 'deer',\n",
              " 'dog',\n",
              " 'frog',\n",
              " 'horse',\n",
              " 'ship',\n",
              " 'truck']"
            ]
          },
          "metadata": {},
          "execution_count": 4
        }
      ]
    },
    {
      "cell_type": "code",
      "source": [
        "# Plot random images from the training validation set\n",
        "rand_idx = random.sample(range(len(train_val_data)),k=16)\n",
        "\n",
        "plt.figure(figsize=(10,10))\n",
        "\n",
        "for i , idx in enumerate(rand_idx):\n",
        "\n",
        "  img , label = train_val_data[idx]\n",
        "  img = (img - img.min()) / (img.max() - img.min())\n",
        "\n",
        "  img_class = train_val_data.classes[label]\n",
        "\n",
        "  plt.subplot(4,4,i+1)\n",
        "  plt.imshow(img.permute(1,2,0))\n",
        "  plt.title(f\"Class : {img_class}\",fontsize=10)\n",
        "  plt.axis(False)"
      ],
      "metadata": {
        "colab": {
          "base_uri": "https://localhost:8080/",
          "height": 826
        },
        "id": "HXBENmb1sqTX",
        "outputId": "f3073b42-2008-4beb-8688-ff81b9b9543d"
      },
      "execution_count": 5,
      "outputs": [
        {
          "output_type": "display_data",
          "data": {
            "text/plain": [
              "<Figure size 1000x1000 with 16 Axes>"
            ],
            "image/png": "[encoded data removed]"
          },
          "metadata": {}
        }
      ]
    },
    {
      "cell_type": "markdown",
      "source": [
        "# 3. Fine-tune models"
      ],
      "metadata": {
        "id": "hBJhy_bPs2d-"
      }
    },
    {
      "cell_type": "code",
      "source": [
        "# Define model function\n",
        "def initialize_model(model_name, num_classes=10, pretrained=True):\n",
        "    if model_name == \"resnet18\":\n",
        "        model = models.resnet18(pretrained=True)  # Train from scratch\n",
        "        model.conv1 = nn.Conv2d(3, 64, kernel_size=3, stride=1, padding=1, bias=False)\n",
        "        model.maxpool = nn.Identity()  # Remove max\n",
        "        model.fc = nn.Linear(model.fc.in_features, num_classes)\n",
        "    elif model_name == \"alexnet\":\n",
        "        model = models.alexnet(pretrained=True)  # Fine-tune version\n",
        "        model.features[0] = nn.Conv2d(3, 64, kernel_size=3, stride=1, padding=1)\n",
        "        model.features[2] = nn.Identity()  # Remove max\n",
        "        model.classifier[6] = nn.Linear(model.classifier[6].in_features, num_classes)\n",
        "    elif model_name == \"mobilenet\":\n",
        "        model = models.mobilenet_v2(pretrained=True)  # Fine-tune version\n",
        "        model.classifier[1] = nn.Linear(model.classifier[1].in_features, num_classes)\n",
        "    return model"
      ],
      "metadata": {
        "id": "2qTMizIRlRmL"
      },
      "execution_count": 6,
      "outputs": []
    },
    {
      "cell_type": "code",
      "source": [
        "# Define the training phase function\n",
        "def train_model(model, train_loader, criterion, optimizer):\n",
        "    model.train()\n",
        "    running_loss, correct, total = 0.0, 0, 0\n",
        "    for inputs, labels in train_loader:\n",
        "        inputs, labels = inputs.to(device), labels.to(device)\n",
        "        optimizer.zero_grad()\n",
        "        outputs = model(inputs)\n",
        "        loss = criterion(outputs, labels)\n",
        "        loss.backward()\n",
        "        optimizer.step()\n",
        "\n",
        "        running_loss += loss.item() * inputs.size(0)\n",
        "        _, preds = torch.max(outputs, 1)\n",
        "        correct += (preds == labels).sum().item()\n",
        "        total += labels.size(0)\n",
        "\n",
        "    train_loss = running_loss / len(train_loader.dataset)\n",
        "    train_accuracy = correct / total\n",
        "    return model, train_loss, train_accuracy"
      ],
      "metadata": {
        "id": "6XfqFl98NHbb"
      },
      "execution_count": 7,
      "outputs": []
    },
    {
      "cell_type": "code",
      "source": [
        "# Define the validation phase function\n",
        "def validate_model(model, val_loader, criterion):\n",
        "    model.eval()\n",
        "    running_loss, correct, total = 0.0, 0, 0\n",
        "    with torch.no_grad():\n",
        "        for inputs, labels in val_loader:\n",
        "            inputs, labels = inputs.to(device), labels.to(device)\n",
        "            outputs = model(inputs)\n",
        "            loss = criterion(outputs, labels)\n",
        "\n",
        "            running_loss += loss.item() * inputs.size(0)\n",
        "            _, preds = torch.max(outputs, 1)\n",
        "            correct += (preds == labels).sum().item()\n",
        "            total += labels.size(0)\n",
        "\n",
        "    val_loss = running_loss / len(val_loader.dataset)\n",
        "    val_accuracy = correct / total\n",
        "    return val_loss, val_accuracy"
      ],
      "metadata": {
        "id": "HvxZWX27NIKH"
      },
      "execution_count": 8,
      "outputs": []
    },
    {
      "cell_type": "code",
      "source": [
        "# Function to train and validate model\n",
        "def train_and_validate(model, train_loader, val_loader, criterion, optimizer, num_epochs=20):\n",
        "    train_loss_history, val_loss_history = [], []\n",
        "    train_acc_history, val_acc_history = [], []\n",
        "\n",
        "    best_model_wts = copy.deepcopy(model.state_dict())\n",
        "    best_val_accuracy = 0.0\n",
        "\n",
        "    for epoch in range(num_epochs):\n",
        "        # Training phase\n",
        "        model, train_loss, train_accuracy = train_model(model, train_loader, criterion, optimizer)\n",
        "        train_loss_history.append(train_loss)\n",
        "        train_acc_history.append(train_accuracy)\n",
        "\n",
        "        # Validation phase\n",
        "        val_loss, val_accuracy = validate_model(model, val_loader, criterion)\n",
        "        val_loss_history.append(val_loss)\n",
        "        val_acc_history.append(val_accuracy)\n",
        "\n",
        "        # Check if validation accuracy improved\n",
        "        if val_accuracy > best_val_accuracy:\n",
        "            best_val_accuracy = val_accuracy\n",
        "            best_model_wts = copy.deepcopy(model.state_dict())\n",
        "            epochs_no_improve = 0\n",
        "        else:\n",
        "            epochs_no_improve += 1\n",
        "\n",
        "        print(f\"Epoch {epoch+1}/{num_epochs}, \"\n",
        "              f\"Train Loss: {train_loss:.4f}, Train Acc: {train_accuracy:.4f}, \"\n",
        "              f\"Val Loss: {val_loss:.4f}, Val Acc: {val_accuracy:.4f}\")\n",
        "\n",
        "        # Early stopping condition\n",
        "        if epochs_no_improve >= 5:\n",
        "            print(f\"Early stopping on epoch {epoch+1} with best validation accuracy: {best_val_accuracy:.4f}\")\n",
        "            break\n",
        "\n",
        "    model.load_state_dict(best_model_wts)\n",
        "    return model, train_loss_history, val_loss_history, train_acc_history, val_acc_history"
      ],
      "metadata": {
        "id": "336rRdTllYPs"
      },
      "execution_count": 9,
      "outputs": []
    },
    {
      "cell_type": "code",
      "source": [
        "# Function to run fine-tuning model\n",
        "def find_best_model_config(model_name, learning_rates, optimizers, train_loader, val_loader, device, num_epochs=20):\n",
        "    best_val_accuracy = 0.0\n",
        "    best_config = None\n",
        "    results = {}\n",
        "\n",
        "    for lr in learning_rates:\n",
        "        for opt in optimizers:\n",
        "            print(f\"\\nTraining {model_name} with {opt} optimizer and learning rate {lr}\")\n",
        "            model = initialize_model(model_name).to(device)\n",
        "            criterion = nn.CrossEntropyLoss()\n",
        "\n",
        "            # Choose optimizer\n",
        "            if opt == 'Adam':\n",
        "                optimizer = optim.Adam(model.parameters(), lr=lr, weight_decay=0.01)\n",
        "            elif opt == 'SGD':\n",
        "                optimizer = optim.SGD(model.parameters(), lr=lr, momentum=0.9, weight_decay=0.01)\n",
        "            else:\n",
        "                optimizer = optim.RMSprop(model.parameters(), lr=lr)\n",
        "\n",
        "            # Train and validate the model\n",
        "            model, train_loss_history, val_loss_history, train_acc_history, val_acc_history = train_and_validate(\n",
        "                model, train_loader, val_loader, criterion, optimizer, num_epochs=num_epochs\n",
        "            )\n",
        "\n",
        "            # Store results\n",
        "            results[(model_name, lr, opt)] = (train_loss_history, val_loss_history, train_acc_history, val_acc_history)\n",
        "\n",
        "            # Check if this configuration has the best validation accuracy so far\n",
        "            max_val_acc = max(val_acc_history)\n",
        "            if max_val_acc > best_val_accuracy:\n",
        "                best_val_accuracy = max_val_acc\n",
        "                best_config = (model_name, lr, opt)\n",
        "\n",
        "    # Output the best configuration and its validation accuracy\n",
        "    print(f\"\\nBest configuration: Model={best_config[0]}, Learning Rate={best_config[1]}, Optimizer={best_config[2]}\")\n",
        "    print(f\"Best Validation Accuracy: {best_val_accuracy}\")\n",
        "\n",
        "    return best_config, best_val_accuracy, results"
      ],
      "metadata": {
        "id": "cLEXkq7EJRdO"
      },
      "execution_count": 10,
      "outputs": []
    },
    {
      "cell_type": "code",
      "source": [
        "# Define models and hyperparameters\n",
        "model_names = [\"resnet18\", \"alexnet\", \"mobilenet\"]\n",
        "num_epochs = 20\n",
        "learning_rates = [0.1, 0.01, 0.001]\n",
        "optimizers = ['SGD', 'Adam', 'RMSprop']"
      ],
      "metadata": {
        "id": "q-nfZ3o3Jg51"
      },
      "execution_count": 11,
      "outputs": []
    },
    {
      "cell_type": "code",
      "source": [
        "# Best resnet18 model\n",
        "best_resnet_config, best_resnet_val_accuracy, results_restnet = find_best_model_config(\n",
        "    model_name=model_names[0],\n",
        "    learning_rates=learning_rates,\n",
        "    optimizers=optimizers,\n",
        "    train_loader=train_loader,\n",
        "    val_loader=val_loader,\n",
        "    device=device,\n",
        "    num_epochs=num_epochs\n",
        ")"
      ],
      "metadata": {
        "colab": {
          "base_uri": "https://localhost:8080/"
        },
        "id": "l1SMOwhaJh35",
        "outputId": "0a6db1ef-0943-43c0-c561-31411f3a9385"
      },
      "execution_count": 12,
      "outputs": [
        {
          "output_type": "stream",
          "name": "stdout",
          "text": [
            "\n",
            "Training resnet18 with SGD optimizer and learning rate 0.1\n"
          ]
        },
        {
          "output_type": "stream",
          "name": "stderr",
          "text": [
            "Downloading: \"https://download.pytorch.org/models/resnet18-f37072fd.pth\" to /root/.cache/torch/hub/checkpoints/resnet18-f37072fd.pth\n",
            "100%|██████████| 44.7M/44.7M [00:00<00:00, 133MB/s]\n"
          ]
        },
        {
          "output_type": "stream",
          "name": "stdout",
          "text": [
            "Epoch 1/20, Train Loss: 2.7103, Train Acc: 0.2041, Val Loss: 2.1897, Val Acc: 0.1757\n",
            "Epoch 2/20, Train Loss: 1.7727, Train Acc: 0.3342, Val Loss: 1.9115, Val Acc: 0.3041\n",
            "Epoch 3/20, Train Loss: 1.6090, Train Acc: 0.4040, Val Loss: 5.1699, Val Acc: 0.1157\n",
            "Epoch 4/20, Train Loss: 1.5040, Train Acc: 0.4521, Val Loss: 3.6254, Val Acc: 0.1597\n",
            "Epoch 5/20, Train Loss: 1.4074, Train Acc: 0.4905, Val Loss: 1.9190, Val Acc: 0.3489\n",
            "Epoch 6/20, Train Loss: 1.3685, Train Acc: 0.5101, Val Loss: 2.2102, Val Acc: 0.3065\n",
            "Epoch 7/20, Train Loss: 1.3365, Train Acc: 0.5245, Val Loss: 1.8503, Val Acc: 0.3802\n",
            "Epoch 8/20, Train Loss: 1.3120, Train Acc: 0.5322, Val Loss: 2.1708, Val Acc: 0.3237\n",
            "Epoch 9/20, Train Loss: 1.2836, Train Acc: 0.5445, Val Loss: 4.5708, Val Acc: 0.1537\n",
            "Epoch 10/20, Train Loss: 1.2573, Train Acc: 0.5554, Val Loss: 2.6136, Val Acc: 0.2349\n",
            "Epoch 11/20, Train Loss: 1.2742, Train Acc: 0.5483, Val Loss: 2.4546, Val Acc: 0.2857\n",
            "Epoch 12/20, Train Loss: 1.2507, Train Acc: 0.5576, Val Loss: 2.7372, Val Acc: 0.2371\n",
            "Early stopping on epoch 12 with best validation accuracy: 0.3802\n",
            "\n",
            "Training resnet18 with Adam optimizer and learning rate 0.1\n",
            "Epoch 1/20, Train Loss: 2.5405, Train Acc: 0.1709, Val Loss: 2.2791, Val Acc: 0.1194\n",
            "Epoch 2/20, Train Loss: 2.1384, Train Acc: 0.1817, Val Loss: 2.2520, Val Acc: 0.1190\n",
            "Epoch 3/20, Train Loss: 2.1642, Train Acc: 0.1745, Val Loss: 2.4687, Val Acc: 0.1045\n",
            "Epoch 4/20, Train Loss: 2.1636, Train Acc: 0.1737, Val Loss: 4.4128, Val Acc: 0.1039\n",
            "Epoch 5/20, Train Loss: 2.1792, Train Acc: 0.1654, Val Loss: 2.1775, Val Acc: 0.1604\n",
            "Epoch 6/20, Train Loss: 2.2004, Train Acc: 0.1613, Val Loss: 2.4597, Val Acc: 0.1059\n",
            "Epoch 7/20, Train Loss: 2.2285, Train Acc: 0.1566, Val Loss: 2.3749, Val Acc: 0.1239\n",
            "Epoch 8/20, Train Loss: 2.2461, Train Acc: 0.1442, Val Loss: 37.5341, Val Acc: 0.0825\n",
            "Epoch 9/20, Train Loss: 2.3859, Train Acc: 0.1196, Val Loss: 25.1866, Val Acc: 0.1039\n",
            "Epoch 10/20, Train Loss: 2.3549, Train Acc: 0.1184, Val Loss: 2.8314, Val Acc: 0.0938\n",
            "Early stopping on epoch 10 with best validation accuracy: 0.1604\n",
            "\n",
            "Training resnet18 with RMSprop optimizer and learning rate 0.1\n",
            "Epoch 1/20, Train Loss: 6.8355, Train Acc: 0.1090, Val Loss: 2.3018, Val Acc: 0.1283\n",
            "Epoch 2/20, Train Loss: 2.1867, Train Acc: 0.1591, Val Loss: 2.0133, Val Acc: 0.2025\n",
            "Epoch 3/20, Train Loss: 1.9821, Train Acc: 0.2230, Val Loss: 2.1461, Val Acc: 0.1781\n",
            "Epoch 4/20, Train Loss: 2.1213, Train Acc: 0.2642, Val Loss: 2.9699, Val Acc: 0.1606\n",
            "Epoch 5/20, Train Loss: 1.9532, Train Acc: 0.2790, Val Loss: 10.1719, Val Acc: 0.1878\n",
            "Epoch 6/20, Train Loss: 2.1253, Train Acc: 0.2689, Val Loss: 1.8707, Val Acc: 0.2909\n",
            "Epoch 7/20, Train Loss: 1.6563, Train Acc: 0.3645, Val Loss: 1.5715, Val Acc: 0.4196\n",
            "Epoch 8/20, Train Loss: 1.5703, Train Acc: 0.4259, Val Loss: 34.0891, Val Acc: 0.3406\n",
            "Epoch 9/20, Train Loss: 2.0503, Train Acc: 0.3935, Val Loss: 1.5595, Val Acc: 0.4285\n",
            "Epoch 10/20, Train Loss: 1.3864, Train Acc: 0.4933, Val Loss: 1.5682, Val Acc: 0.4492\n",
            "Epoch 11/20, Train Loss: 1.2857, Train Acc: 0.5361, Val Loss: 2.4231, Val Acc: 0.3284\n",
            "Epoch 12/20, Train Loss: 1.2149, Train Acc: 0.5680, Val Loss: 1.6088, Val Acc: 0.4948\n",
            "Epoch 13/20, Train Loss: 1.0861, Train Acc: 0.6127, Val Loss: 1.5346, Val Acc: 0.4832\n",
            "Epoch 14/20, Train Loss: 1.0289, Train Acc: 0.6402, Val Loss: 0.9928, Val Acc: 0.6433\n",
            "Epoch 15/20, Train Loss: 0.9507, Train Acc: 0.6669, Val Loss: 1.4292, Val Acc: 0.5205\n",
            "Epoch 16/20, Train Loss: 0.8943, Train Acc: 0.6921, Val Loss: 0.9505, Val Acc: 0.6714\n",
            "Epoch 17/20, Train Loss: 0.8332, Train Acc: 0.7173, Val Loss: 0.8528, Val Acc: 0.7052\n",
            "Epoch 18/20, Train Loss: 0.8647, Train Acc: 0.7090, Val Loss: 0.7838, Val Acc: 0.7279\n",
            "Epoch 19/20, Train Loss: 0.7303, Train Acc: 0.7526, Val Loss: 0.8903, Val Acc: 0.7001\n",
            "Epoch 20/20, Train Loss: 0.6945, Train Acc: 0.7638, Val Loss: 0.9224, Val Acc: 0.7087\n",
            "\n",
            "Training resnet18 with SGD optimizer and learning rate 0.01\n",
            "Epoch 1/20, Train Loss: 0.8994, Train Acc: 0.6834, Val Loss: 0.5560, Val Acc: 0.8111\n",
            "Epoch 2/20, Train Loss: 0.4184, Train Acc: 0.8554, Val Loss: 0.4520, Val Acc: 0.8463\n",
            "Epoch 3/20, Train Loss: 0.3218, Train Acc: 0.8894, Val Loss: 0.4275, Val Acc: 0.8508\n",
            "Epoch 4/20, Train Loss: 0.2902, Train Acc: 0.9007, Val Loss: 0.4061, Val Acc: 0.8610\n",
            "Epoch 5/20, Train Loss: 0.2914, Train Acc: 0.9027, Val Loss: 0.4333, Val Acc: 0.8567\n",
            "Epoch 6/20, Train Loss: 0.3052, Train Acc: 0.8968, Val Loss: 0.4716, Val Acc: 0.8457\n",
            "Epoch 7/20, Train Loss: 0.3220, Train Acc: 0.8915, Val Loss: 0.5637, Val Acc: 0.8172\n",
            "Epoch 8/20, Train Loss: 0.3366, Train Acc: 0.8894, Val Loss: 0.6104, Val Acc: 0.7978\n",
            "Epoch 9/20, Train Loss: 0.3544, Train Acc: 0.8852, Val Loss: 0.6115, Val Acc: 0.7961\n",
            "Early stopping on epoch 9 with best validation accuracy: 0.8610\n",
            "\n",
            "Training resnet18 with Adam optimizer and learning rate 0.01\n",
            "Epoch 1/20, Train Loss: 2.1187, Train Acc: 0.2278, Val Loss: 2.5383, Val Acc: 0.1357\n",
            "Epoch 2/20, Train Loss: 1.7400, Train Acc: 0.3419, Val Loss: 3.2952, Val Acc: 0.1504\n",
            "Epoch 3/20, Train Loss: 1.6474, Train Acc: 0.3810, Val Loss: 4.2817, Val Acc: 0.1418\n",
            "Epoch 4/20, Train Loss: 1.6012, Train Acc: 0.4016, Val Loss: 1.8204, Val Acc: 0.3231\n",
            "Epoch 5/20, Train Loss: 1.5654, Train Acc: 0.4149, Val Loss: 1.9185, Val Acc: 0.2749\n",
            "Epoch 6/20, Train Loss: 1.5216, Train Acc: 0.4345, Val Loss: 2.4191, Val Acc: 0.2468\n",
            "Epoch 7/20, Train Loss: 1.4967, Train Acc: 0.4466, Val Loss: 2.1907, Val Acc: 0.2410\n",
            "Epoch 8/20, Train Loss: 1.4599, Train Acc: 0.4580, Val Loss: 1.6892, Val Acc: 0.3645\n",
            "Epoch 9/20, Train Loss: 1.4442, Train Acc: 0.4683, Val Loss: 1.7391, Val Acc: 0.3802\n",
            "Epoch 10/20, Train Loss: 1.4246, Train Acc: 0.4759, Val Loss: 2.3425, Val Acc: 0.2877\n",
            "Epoch 11/20, Train Loss: 1.4063, Train Acc: 0.4799, Val Loss: 5.2948, Val Acc: 0.1168\n",
            "Epoch 12/20, Train Loss: 1.3806, Train Acc: 0.4904, Val Loss: 2.1801, Val Acc: 0.2904\n",
            "Epoch 13/20, Train Loss: 1.3683, Train Acc: 0.4975, Val Loss: 3.1982, Val Acc: 0.1663\n",
            "Epoch 14/20, Train Loss: 1.3545, Train Acc: 0.5024, Val Loss: 2.5442, Val Acc: 0.2234\n",
            "Early stopping on epoch 14 with best validation accuracy: 0.3802\n",
            "\n",
            "Training resnet18 with RMSprop optimizer and learning rate 0.01\n",
            "Epoch 1/20, Train Loss: 2.5506, Train Acc: 0.2305, Val Loss: 1.8344, Val Acc: 0.3118\n",
            "Epoch 2/20, Train Loss: 1.8391, Train Acc: 0.3330, Val Loss: 1.9075, Val Acc: 0.3033\n",
            "Epoch 3/20, Train Loss: 1.6389, Train Acc: 0.3958, Val Loss: 1.5296, Val Acc: 0.4386\n",
            "Epoch 4/20, Train Loss: 1.4728, Train Acc: 0.4601, Val Loss: 1.5118, Val Acc: 0.4460\n",
            "Epoch 5/20, Train Loss: 1.3567, Train Acc: 0.5081, Val Loss: 1.4144, Val Acc: 0.5021\n",
            "Epoch 6/20, Train Loss: 1.1561, Train Acc: 0.5876, Val Loss: 1.1556, Val Acc: 0.5844\n",
            "Epoch 7/20, Train Loss: 1.0040, Train Acc: 0.6443, Val Loss: 1.0081, Val Acc: 0.6386\n",
            "Epoch 8/20, Train Loss: 0.8632, Train Acc: 0.6963, Val Loss: 0.9499, Val Acc: 0.6646\n",
            "Epoch 9/20, Train Loss: 0.7482, Train Acc: 0.7373, Val Loss: 0.7942, Val Acc: 0.7206\n",
            "Epoch 10/20, Train Loss: 0.6609, Train Acc: 0.7707, Val Loss: 0.6988, Val Acc: 0.7572\n",
            "Epoch 11/20, Train Loss: 0.5966, Train Acc: 0.7914, Val Loss: 44.0226, Val Acc: 0.1978\n",
            "Epoch 12/20, Train Loss: 0.5490, Train Acc: 0.8095, Val Loss: 0.6985, Val Acc: 0.7694\n",
            "Epoch 13/20, Train Loss: 0.5105, Train Acc: 0.8243, Val Loss: 0.5995, Val Acc: 0.7976\n",
            "Epoch 14/20, Train Loss: 0.4673, Train Acc: 0.8374, Val Loss: 0.5388, Val Acc: 0.8163\n",
            "Epoch 15/20, Train Loss: 0.4422, Train Acc: 0.8445, Val Loss: 0.5064, Val Acc: 0.8235\n",
            "Epoch 16/20, Train Loss: 0.4164, Train Acc: 0.8555, Val Loss: 0.6060, Val Acc: 0.7944\n",
            "Epoch 17/20, Train Loss: 0.3891, Train Acc: 0.8652, Val Loss: 0.6132, Val Acc: 0.7970\n",
            "Epoch 18/20, Train Loss: 0.3677, Train Acc: 0.8710, Val Loss: 0.5980, Val Acc: 0.8096\n",
            "Epoch 19/20, Train Loss: 0.3467, Train Acc: 0.8792, Val Loss: 0.6226, Val Acc: 0.7993\n",
            "Epoch 20/20, Train Loss: 0.3371, Train Acc: 0.8826, Val Loss: 0.4741, Val Acc: 0.8411\n",
            "\n",
            "Training resnet18 with SGD optimizer and learning rate 0.001\n",
            "Epoch 1/20, Train Loss: 1.5137, Train Acc: 0.4679, Val Loss: 1.0262, Val Acc: 0.6448\n",
            "Epoch 2/20, Train Loss: 0.8443, Train Acc: 0.7094, Val Loss: 0.7146, Val Acc: 0.7548\n",
            "Epoch 3/20, Train Loss: 0.6297, Train Acc: 0.7826, Val Loss: 0.5749, Val Acc: 0.8033\n",
            "Epoch 4/20, Train Loss: 0.5111, Train Acc: 0.8241, Val Loss: 0.5006, Val Acc: 0.8292\n",
            "Epoch 5/20, Train Loss: 0.4420, Train Acc: 0.8481, Val Loss: 0.4401, Val Acc: 0.8496\n",
            "Epoch 6/20, Train Loss: 0.3826, Train Acc: 0.8686, Val Loss: 0.4056, Val Acc: 0.8601\n",
            "Epoch 7/20, Train Loss: 0.3417, Train Acc: 0.8840, Val Loss: 0.3752, Val Acc: 0.8746\n",
            "Epoch 8/20, Train Loss: 0.3086, Train Acc: 0.8959, Val Loss: 0.3433, Val Acc: 0.8772\n",
            "Epoch 9/20, Train Loss: 0.2816, Train Acc: 0.9026, Val Loss: 0.3383, Val Acc: 0.8835\n",
            "Epoch 10/20, Train Loss: 0.2576, Train Acc: 0.9111, Val Loss: 0.3191, Val Acc: 0.8922\n",
            "Epoch 11/20, Train Loss: 0.2357, Train Acc: 0.9201, Val Loss: 0.3129, Val Acc: 0.8923\n",
            "Epoch 12/20, Train Loss: 0.2187, Train Acc: 0.9261, Val Loss: 0.3075, Val Acc: 0.8951\n",
            "Epoch 13/20, Train Loss: 0.2025, Train Acc: 0.9319, Val Loss: 0.2720, Val Acc: 0.9040\n",
            "Epoch 14/20, Train Loss: 0.1850, Train Acc: 0.9385, Val Loss: 0.2786, Val Acc: 0.9057\n",
            "Epoch 15/20, Train Loss: 0.1771, Train Acc: 0.9397, Val Loss: 0.2773, Val Acc: 0.9073\n",
            "Epoch 16/20, Train Loss: 0.1623, Train Acc: 0.9472, Val Loss: 0.2606, Val Acc: 0.9100\n",
            "Epoch 17/20, Train Loss: 0.1506, Train Acc: 0.9500, Val Loss: 0.2662, Val Acc: 0.9093\n",
            "Epoch 18/20, Train Loss: 0.1394, Train Acc: 0.9548, Val Loss: 0.2528, Val Acc: 0.9161\n",
            "Epoch 19/20, Train Loss: 0.1317, Train Acc: 0.9566, Val Loss: 0.2555, Val Acc: 0.9148\n",
            "Epoch 20/20, Train Loss: 0.1212, Train Acc: 0.9609, Val Loss: 0.2461, Val Acc: 0.9199\n",
            "\n",
            "Training resnet18 with Adam optimizer and learning rate 0.001\n",
            "Epoch 1/20, Train Loss: 1.0050, Train Acc: 0.6578, Val Loss: 1.1509, Val Acc: 0.6011\n",
            "Epoch 2/20, Train Loss: 0.8588, Train Acc: 0.7138, Val Loss: 1.2649, Val Acc: 0.5796\n",
            "Epoch 3/20, Train Loss: 0.7942, Train Acc: 0.7342, Val Loss: 1.0703, Val Acc: 0.6539\n",
            "Epoch 4/20, Train Loss: 0.7407, Train Acc: 0.7500, Val Loss: 1.2541, Val Acc: 0.5883\n",
            "Epoch 5/20, Train Loss: 0.7011, Train Acc: 0.7664, Val Loss: 1.0794, Val Acc: 0.6406\n",
            "Epoch 6/20, Train Loss: 0.6725, Train Acc: 0.7733, Val Loss: 0.8894, Val Acc: 0.7125\n",
            "Epoch 7/20, Train Loss: 0.6443, Train Acc: 0.7842, Val Loss: 0.9364, Val Acc: 0.6782\n",
            "Epoch 8/20, Train Loss: 0.6283, Train Acc: 0.7924, Val Loss: 0.6967, Val Acc: 0.7693\n",
            "Epoch 9/20, Train Loss: 0.6141, Train Acc: 0.7960, Val Loss: 0.7369, Val Acc: 0.7528\n",
            "Epoch 10/20, Train Loss: 0.6010, Train Acc: 0.8014, Val Loss: 0.7717, Val Acc: 0.7512\n",
            "Epoch 11/20, Train Loss: 0.5966, Train Acc: 0.8045, Val Loss: 0.8728, Val Acc: 0.7162\n",
            "Epoch 12/20, Train Loss: 0.5930, Train Acc: 0.8073, Val Loss: 0.7796, Val Acc: 0.7505\n",
            "Epoch 13/20, Train Loss: 0.5867, Train Acc: 0.8091, Val Loss: 0.6630, Val Acc: 0.7809\n",
            "Epoch 14/20, Train Loss: 0.5819, Train Acc: 0.8126, Val Loss: 0.8233, Val Acc: 0.7339\n",
            "Epoch 15/20, Train Loss: 0.5825, Train Acc: 0.8144, Val Loss: 0.7480, Val Acc: 0.7487\n",
            "Epoch 16/20, Train Loss: 0.5781, Train Acc: 0.8145, Val Loss: 0.7563, Val Acc: 0.7502\n",
            "Epoch 17/20, Train Loss: 0.5695, Train Acc: 0.8176, Val Loss: 0.7280, Val Acc: 0.7616\n",
            "Epoch 18/20, Train Loss: 0.5754, Train Acc: 0.8165, Val Loss: 0.6974, Val Acc: 0.7734\n",
            "Early stopping on epoch 18 with best validation accuracy: 0.7809\n",
            "\n",
            "Training resnet18 with RMSprop optimizer and learning rate 0.001\n",
            "Epoch 1/20, Train Loss: 1.8676, Train Acc: 0.3055, Val Loss: 1.5610, Val Acc: 0.4337\n",
            "Epoch 2/20, Train Loss: 1.1706, Train Acc: 0.5727, Val Loss: 0.9303, Val Acc: 0.6587\n",
            "Epoch 3/20, Train Loss: 0.7945, Train Acc: 0.7220, Val Loss: 0.7722, Val Acc: 0.7307\n",
            "Epoch 4/20, Train Loss: 0.6157, Train Acc: 0.7863, Val Loss: 0.7086, Val Acc: 0.7544\n",
            "Epoch 5/20, Train Loss: 0.5188, Train Acc: 0.8208, Val Loss: 0.5925, Val Acc: 0.7943\n",
            "Epoch 6/20, Train Loss: 0.4454, Train Acc: 0.8476, Val Loss: 0.5363, Val Acc: 0.8216\n",
            "Epoch 7/20, Train Loss: 0.3918, Train Acc: 0.8653, Val Loss: 0.5198, Val Acc: 0.8284\n",
            "Epoch 8/20, Train Loss: 0.3531, Train Acc: 0.8799, Val Loss: 0.5059, Val Acc: 0.8379\n",
            "Epoch 9/20, Train Loss: 0.3192, Train Acc: 0.8906, Val Loss: 0.4574, Val Acc: 0.8462\n",
            "Epoch 10/20, Train Loss: 0.2880, Train Acc: 0.9012, Val Loss: 0.4710, Val Acc: 0.8450\n",
            "Epoch 11/20, Train Loss: 0.2679, Train Acc: 0.9085, Val Loss: 0.4406, Val Acc: 0.8611\n",
            "Epoch 12/20, Train Loss: 0.2398, Train Acc: 0.9171, Val Loss: 0.4052, Val Acc: 0.8677\n",
            "Epoch 13/20, Train Loss: 0.2152, Train Acc: 0.9253, Val Loss: 0.4146, Val Acc: 0.8714\n",
            "Epoch 14/20, Train Loss: 0.2045, Train Acc: 0.9297, Val Loss: 0.4108, Val Acc: 0.8687\n",
            "Epoch 15/20, Train Loss: 0.1885, Train Acc: 0.9352, Val Loss: 0.3756, Val Acc: 0.8830\n",
            "Epoch 16/20, Train Loss: 0.1722, Train Acc: 0.9395, Val Loss: 0.3989, Val Acc: 0.8825\n",
            "Epoch 17/20, Train Loss: 0.1624, Train Acc: 0.9431, Val Loss: 0.3863, Val Acc: 0.8861\n",
            "Epoch 18/20, Train Loss: 0.1516, Train Acc: 0.9476, Val Loss: 0.3798, Val Acc: 0.8864\n",
            "Epoch 19/20, Train Loss: 0.1420, Train Acc: 0.9498, Val Loss: 0.3720, Val Acc: 0.8927\n",
            "Epoch 20/20, Train Loss: 0.1321, Train Acc: 0.9537, Val Loss: 0.3773, Val Acc: 0.8901\n",
            "\n",
            "Best configuration: Model=resnet18, Learning Rate=0.001, Optimizer=SGD\n",
            "Best Validation Accuracy: 0.9199\n"
          ]
        }
      ]
    },
    {
      "cell_type": "code",
      "source": [
        "# Best alexnet model\n",
        "best_alexnet_config, best_alexnet_val_accuracy, results_alexnet = find_best_model_config(\n",
        "    model_name=model_names[1],\n",
        "    learning_rates=learning_rates,\n",
        "    optimizers=optimizers,\n",
        "    train_loader=train_loader,\n",
        "    val_loader=val_loader,\n",
        "    device=device,\n",
        "    num_epochs=num_epochs\n",
        ")"
      ],
      "metadata": {
        "colab": {
          "base_uri": "https://localhost:8080/"
        },
        "id": "kLqZIRxfKCPs",
        "outputId": "b4586105-f1b9-46c2-b50d-6f49125f3c90"
      },
      "execution_count": 13,
      "outputs": [
        {
          "output_type": "stream",
          "name": "stdout",
          "text": [
            "\n",
            "Training alexnet with SGD optimizer and learning rate 0.1\n"
          ]
        },
        {
          "output_type": "stream",
          "name": "stderr",
          "text": [
            "Downloading: \"https://download.pytorch.org/models/alexnet-owt-7be5be79.pth\" to /root/.cache/torch/hub/checkpoints/alexnet-owt-7be5be79.pth\n",
            "100%|██████████| 233M/233M [00:01<00:00, 142MB/s]\n"
          ]
        },
        {
          "output_type": "stream",
          "name": "stdout",
          "text": [
            "Epoch 1/20, Train Loss: nan, Train Acc: 0.0994, Val Loss: nan, Val Acc: 0.1039\n",
            "Epoch 2/20, Train Loss: nan, Train Acc: 0.0990, Val Loss: nan, Val Acc: 0.1039\n",
            "Epoch 3/20, Train Loss: nan, Train Acc: 0.0990, Val Loss: nan, Val Acc: 0.1039\n",
            "Epoch 4/20, Train Loss: nan, Train Acc: 0.0990, Val Loss: nan, Val Acc: 0.1039\n",
            "Epoch 5/20, Train Loss: nan, Train Acc: 0.0990, Val Loss: nan, Val Acc: 0.1039\n",
            "Epoch 6/20, Train Loss: nan, Train Acc: 0.0990, Val Loss: nan, Val Acc: 0.1039\n",
            "Early stopping on epoch 6 with best validation accuracy: 0.1039\n",
            "\n",
            "Training alexnet with Adam optimizer and learning rate 0.1\n",
            "Epoch 1/20, Train Loss: 16523097704.9948, Train Acc: 0.0985, Val Loss: 6.4325, Val Acc: 0.0996\n",
            "Epoch 2/20, Train Loss: 7.7774, Train Acc: 0.0998, Val Loss: 5.1036, Val Acc: 0.1046\n",
            "Epoch 3/20, Train Loss: 5.7402, Train Acc: 0.1012, Val Loss: 6.1694, Val Acc: 0.0989\n",
            "Epoch 4/20, Train Loss: 5.3252, Train Acc: 0.1009, Val Loss: 5.0110, Val Acc: 0.1032\n",
            "Epoch 5/20, Train Loss: 4.6622, Train Acc: 0.1023, Val Loss: 4.9367, Val Acc: 0.1046\n",
            "Epoch 6/20, Train Loss: 5265.3106, Train Acc: 0.0999, Val Loss: 4.1190, Val Acc: 0.0980\n",
            "Epoch 7/20, Train Loss: 37.7630, Train Acc: 0.1013, Val Loss: 4.6897, Val Acc: 0.0980\n",
            "Early stopping on epoch 7 with best validation accuracy: 0.1046\n",
            "\n",
            "Training alexnet with RMSprop optimizer and learning rate 0.1\n",
            "Epoch 1/20, Train Loss: 1405960210243885824.0000, Train Acc: 0.1036, Val Loss: 32.7207, Val Acc: 0.1034\n",
            "Epoch 2/20, Train Loss: 213434609.4733, Train Acc: 0.0988, Val Loss: 18.5110, Val Acc: 0.1039\n",
            "Epoch 3/20, Train Loss: 152894004.4864, Train Acc: 0.0987, Val Loss: 22.8983, Val Acc: 0.1032\n",
            "Epoch 4/20, Train Loss: 48548487.7592, Train Acc: 0.1026, Val Loss: 20.5797, Val Acc: 0.0996\n",
            "Epoch 5/20, Train Loss: 20673735.0747, Train Acc: 0.0993, Val Loss: 21.1140, Val Acc: 0.0966\n",
            "Epoch 6/20, Train Loss: 5559382.3155, Train Acc: 0.1001, Val Loss: 19.5067, Val Acc: 0.1032\n",
            "Epoch 7/20, Train Loss: 28851929226.7202, Train Acc: 0.1021, Val Loss: 30.0024, Val Acc: 0.1034\n",
            "Early stopping on epoch 7 with best validation accuracy: 0.1039\n",
            "\n",
            "Training alexnet with SGD optimizer and learning rate 0.01\n",
            "Epoch 1/20, Train Loss: 1.4735, Train Acc: 0.4577, Val Loss: 1.1132, Val Acc: 0.6049\n",
            "Epoch 2/20, Train Loss: 1.0355, Train Acc: 0.6340, Val Loss: 1.0639, Val Acc: 0.6234\n",
            "Epoch 3/20, Train Loss: 0.9083, Train Acc: 0.6807, Val Loss: 0.8963, Val Acc: 0.6811\n",
            "Epoch 4/20, Train Loss: 0.8424, Train Acc: 0.7048, Val Loss: 0.8297, Val Acc: 0.7141\n",
            "Epoch 5/20, Train Loss: 0.8087, Train Acc: 0.7182, Val Loss: 0.8205, Val Acc: 0.7093\n",
            "Epoch 6/20, Train Loss: 0.7887, Train Acc: 0.7270, Val Loss: 0.7549, Val Acc: 0.7411\n",
            "Epoch 7/20, Train Loss: 0.7730, Train Acc: 0.7297, Val Loss: 0.7659, Val Acc: 0.7340\n",
            "Epoch 8/20, Train Loss: 0.7837, Train Acc: 0.7269, Val Loss: 0.7077, Val Acc: 0.7571\n",
            "Epoch 9/20, Train Loss: 0.7704, Train Acc: 0.7312, Val Loss: 0.7573, Val Acc: 0.7386\n",
            "Epoch 10/20, Train Loss: 0.7578, Train Acc: 0.7382, Val Loss: 0.7956, Val Acc: 0.7234\n",
            "Epoch 11/20, Train Loss: 0.7510, Train Acc: 0.7390, Val Loss: 0.7555, Val Acc: 0.7389\n",
            "Epoch 12/20, Train Loss: 0.7566, Train Acc: 0.7378, Val Loss: 0.8676, Val Acc: 0.7055\n",
            "Epoch 13/20, Train Loss: 0.7554, Train Acc: 0.7391, Val Loss: 0.7196, Val Acc: 0.7473\n",
            "Early stopping on epoch 13 with best validation accuracy: 0.7571\n",
            "\n",
            "Training alexnet with Adam optimizer and learning rate 0.01\n",
            "Epoch 1/20, Train Loss: 291.4781, Train Acc: 0.1010, Val Loss: 2.3251, Val Acc: 0.0938\n",
            "Epoch 2/20, Train Loss: 2.3221, Train Acc: 0.0972, Val Loss: 2.3047, Val Acc: 0.1032\n",
            "Epoch 3/20, Train Loss: 3.9609, Train Acc: 0.0985, Val Loss: 2.3045, Val Acc: 0.1034\n",
            "Epoch 4/20, Train Loss: 3.3417, Train Acc: 0.0994, Val Loss: 2.3052, Val Acc: 0.1032\n",
            "Epoch 5/20, Train Loss: 3003.7072, Train Acc: 0.0999, Val Loss: 2.3086, Val Acc: 0.0980\n",
            "Epoch 6/20, Train Loss: 2.3813, Train Acc: 0.1006, Val Loss: 2.3133, Val Acc: 0.1032\n",
            "Epoch 7/20, Train Loss: 867.5217, Train Acc: 0.1016, Val Loss: 2.3136, Val Acc: 0.0966\n",
            "Epoch 8/20, Train Loss: 2.9571, Train Acc: 0.0993, Val Loss: 2.3060, Val Acc: 0.0966\n",
            "Early stopping on epoch 8 with best validation accuracy: 0.1034\n",
            "\n",
            "Training alexnet with RMSprop optimizer and learning rate 0.01\n",
            "Epoch 1/20, Train Loss: 30695456258.9051, Train Acc: 0.0988, Val Loss: 2.3218, Val Acc: 0.1046\n",
            "Epoch 2/20, Train Loss: 24.7678, Train Acc: 0.1004, Val Loss: 2.3146, Val Acc: 0.1046\n",
            "Epoch 3/20, Train Loss: 10.7677, Train Acc: 0.0996, Val Loss: 2.3255, Val Acc: 0.1034\n",
            "Epoch 4/20, Train Loss: 7.2702, Train Acc: 0.1001, Val Loss: 2.4004, Val Acc: 0.0989\n",
            "Epoch 5/20, Train Loss: 5.0080, Train Acc: 0.1007, Val Loss: 2.3290, Val Acc: 0.0996\n",
            "Epoch 6/20, Train Loss: 4.7211, Train Acc: 0.1013, Val Loss: 2.3110, Val Acc: 0.0938\n",
            "Early stopping on epoch 6 with best validation accuracy: 0.1046\n",
            "\n",
            "Training alexnet with SGD optimizer and learning rate 0.001\n",
            "Epoch 1/20, Train Loss: 1.6541, Train Acc: 0.3896, Val Loss: 1.3903, Val Acc: 0.4987\n",
            "Epoch 2/20, Train Loss: 1.3189, Train Acc: 0.5248, Val Loss: 1.1918, Val Acc: 0.5834\n",
            "Epoch 3/20, Train Loss: 1.1752, Train Acc: 0.5823, Val Loss: 1.0748, Val Acc: 0.6241\n",
            "Epoch 4/20, Train Loss: 1.0779, Train Acc: 0.6176, Val Loss: 0.9797, Val Acc: 0.6581\n",
            "Epoch 5/20, Train Loss: 1.0053, Train Acc: 0.6445, Val Loss: 0.9233, Val Acc: 0.6783\n",
            "Epoch 6/20, Train Loss: 0.9526, Train Acc: 0.6629, Val Loss: 0.8676, Val Acc: 0.6982\n",
            "Epoch 7/20, Train Loss: 0.8962, Train Acc: 0.6854, Val Loss: 0.8598, Val Acc: 0.6934\n",
            "Epoch 8/20, Train Loss: 0.8740, Train Acc: 0.6911, Val Loss: 0.8166, Val Acc: 0.7136\n",
            "Epoch 9/20, Train Loss: 0.8431, Train Acc: 0.7029, Val Loss: 0.7848, Val Acc: 0.7225\n",
            "Epoch 10/20, Train Loss: 0.8094, Train Acc: 0.7146, Val Loss: 0.7528, Val Acc: 0.7399\n",
            "Epoch 11/20, Train Loss: 0.7858, Train Acc: 0.7255, Val Loss: 0.7479, Val Acc: 0.7367\n",
            "Epoch 12/20, Train Loss: 0.7622, Train Acc: 0.7331, Val Loss: 0.7492, Val Acc: 0.7303\n",
            "Epoch 13/20, Train Loss: 0.7476, Train Acc: 0.7389, Val Loss: 0.7087, Val Acc: 0.7550\n",
            "Epoch 14/20, Train Loss: 0.7293, Train Acc: 0.7438, Val Loss: 0.6905, Val Acc: 0.7609\n",
            "Epoch 15/20, Train Loss: 0.7159, Train Acc: 0.7487, Val Loss: 0.6711, Val Acc: 0.7649\n",
            "Epoch 16/20, Train Loss: 0.6986, Train Acc: 0.7572, Val Loss: 0.6713, Val Acc: 0.7622\n",
            "Epoch 17/20, Train Loss: 0.6907, Train Acc: 0.7595, Val Loss: 0.6609, Val Acc: 0.7699\n",
            "Epoch 18/20, Train Loss: 0.6761, Train Acc: 0.7635, Val Loss: 0.6607, Val Acc: 0.7701\n",
            "Epoch 19/20, Train Loss: 0.6713, Train Acc: 0.7665, Val Loss: 0.6588, Val Acc: 0.7711\n",
            "Epoch 20/20, Train Loss: 0.6560, Train Acc: 0.7714, Val Loss: 0.6390, Val Acc: 0.7773\n",
            "\n",
            "Training alexnet with Adam optimizer and learning rate 0.001\n",
            "Epoch 1/20, Train Loss: 1.9970, Train Acc: 0.2458, Val Loss: 1.6334, Val Acc: 0.3697\n",
            "Epoch 2/20, Train Loss: 1.6397, Train Acc: 0.3800, Val Loss: 1.5163, Val Acc: 0.4289\n",
            "Epoch 3/20, Train Loss: 1.5175, Train Acc: 0.4318, Val Loss: 1.4067, Val Acc: 0.4727\n",
            "Epoch 4/20, Train Loss: 1.4447, Train Acc: 0.4615, Val Loss: 1.3483, Val Acc: 0.4962\n",
            "Epoch 5/20, Train Loss: 1.3728, Train Acc: 0.4949, Val Loss: 1.2722, Val Acc: 0.5342\n",
            "Epoch 6/20, Train Loss: 1.3319, Train Acc: 0.5131, Val Loss: 1.2348, Val Acc: 0.5491\n",
            "Epoch 7/20, Train Loss: 1.2968, Train Acc: 0.5294, Val Loss: 1.1956, Val Acc: 0.5716\n",
            "Epoch 8/20, Train Loss: 1.2640, Train Acc: 0.5447, Val Loss: 1.1457, Val Acc: 0.5926\n",
            "Epoch 9/20, Train Loss: 1.2361, Train Acc: 0.5537, Val Loss: 1.1912, Val Acc: 0.5669\n",
            "Epoch 10/20, Train Loss: 1.2269, Train Acc: 0.5565, Val Loss: 1.1636, Val Acc: 0.5749\n",
            "Epoch 11/20, Train Loss: 1.2000, Train Acc: 0.5678, Val Loss: 1.1226, Val Acc: 0.5957\n",
            "Epoch 12/20, Train Loss: 1.1773, Train Acc: 0.5766, Val Loss: 1.2273, Val Acc: 0.5571\n",
            "Epoch 13/20, Train Loss: 1.1557, Train Acc: 0.5846, Val Loss: 1.1580, Val Acc: 0.5886\n",
            "Epoch 14/20, Train Loss: 1.1516, Train Acc: 0.5858, Val Loss: 1.1313, Val Acc: 0.5867\n",
            "Epoch 15/20, Train Loss: 1.1285, Train Acc: 0.5940, Val Loss: 1.1231, Val Acc: 0.5909\n",
            "Epoch 16/20, Train Loss: 1.1295, Train Acc: 0.5934, Val Loss: 1.0434, Val Acc: 0.6241\n",
            "Epoch 17/20, Train Loss: 1.1185, Train Acc: 0.6017, Val Loss: 1.1418, Val Acc: 0.5970\n",
            "Epoch 18/20, Train Loss: 1.0967, Train Acc: 0.6049, Val Loss: 1.0233, Val Acc: 0.6274\n",
            "Epoch 19/20, Train Loss: 1.0913, Train Acc: 0.6097, Val Loss: 0.9897, Val Acc: 0.6498\n",
            "Epoch 20/20, Train Loss: 1.0813, Train Acc: 0.6141, Val Loss: 0.9922, Val Acc: 0.6467\n",
            "\n",
            "Training alexnet with RMSprop optimizer and learning rate 0.001\n",
            "Epoch 1/20, Train Loss: 124.1888, Train Acc: 0.0996, Val Loss: 2.3062, Val Acc: 0.0989\n",
            "Epoch 2/20, Train Loss: 2.3046, Train Acc: 0.0968, Val Loss: 2.3038, Val Acc: 0.0966\n",
            "Epoch 3/20, Train Loss: 2.3039, Train Acc: 0.0982, Val Loss: 2.3050, Val Acc: 0.0966\n",
            "Epoch 4/20, Train Loss: 2.3037, Train Acc: 0.1013, Val Loss: 2.3049, Val Acc: 0.0938\n",
            "Epoch 5/20, Train Loss: 2.3033, Train Acc: 0.1013, Val Loss: 2.3034, Val Acc: 0.0980\n",
            "Epoch 6/20, Train Loss: 2.3034, Train Acc: 0.0997, Val Loss: 2.3034, Val Acc: 0.0980\n",
            "Early stopping on epoch 6 with best validation accuracy: 0.0989\n",
            "\n",
            "Best configuration: Model=alexnet, Learning Rate=0.001, Optimizer=SGD\n",
            "Best Validation Accuracy: 0.7773\n"
          ]
        }
      ]
    },
    {
      "cell_type": "code",
      "source": [
        "# Best mobilenet model\n",
        "best_mobilenet_config, best_mobilenet_val_accuracy, results_mobilenet = find_best_model_config(\n",
        "    model_name=model_names[2],\n",
        "    learning_rates=learning_rates,\n",
        "    optimizers=optimizers,\n",
        "    train_loader=train_loader,\n",
        "    val_loader=val_loader,\n",
        "    device=device,\n",
        "    num_epochs=num_epochs\n",
        ")"
      ],
      "metadata": {
        "id": "HzggFCWgKMZ9",
        "colab": {
          "base_uri": "https://localhost:8080/"
        },
        "outputId": "40dcd5f3-feba-4462-c176-2329e81274d1"
      },
      "execution_count": 14,
      "outputs": [
        {
          "output_type": "stream",
          "name": "stderr",
          "text": [
            "Downloading: \"https://download.pytorch.org/models/mobilenet_v2-b0353104.pth\" to /root/.cache/torch/hub/checkpoints/mobilenet_v2-b0353104.pth\n"
          ]
        },
        {
          "output_type": "stream",
          "name": "stdout",
          "text": [
            "\n",
            "Training mobilenet with SGD optimizer and learning rate 0.1\n"
          ]
        },
        {
          "output_type": "stream",
          "name": "stderr",
          "text": [
            "100%|██████████| 13.6M/13.6M [00:00<00:00, 128MB/s]\n"
          ]
        },
        {
          "output_type": "stream",
          "name": "stdout",
          "text": [
            "Epoch 1/20, Train Loss: 2.8208, Train Acc: 0.1138, Val Loss: 2.3087, Val Acc: 0.1032\n",
            "Epoch 2/20, Train Loss: 2.0850, Train Acc: 0.1998, Val Loss: 3.2396, Val Acc: 0.1015\n",
            "Epoch 3/20, Train Loss: 1.9598, Train Acc: 0.2301, Val Loss: 5.1560, Val Acc: 0.0974\n",
            "Epoch 4/20, Train Loss: 1.9451, Train Acc: 0.2394, Val Loss: 4.6955, Val Acc: 0.0980\n",
            "Epoch 5/20, Train Loss: 1.9267, Train Acc: 0.2418, Val Loss: 2.9968, Val Acc: 0.0979\n",
            "Epoch 6/20, Train Loss: 2.0235, Train Acc: 0.1886, Val Loss: 2.3380, Val Acc: 0.0938\n",
            "Early stopping on epoch 6 with best validation accuracy: 0.1032\n",
            "\n",
            "Training mobilenet with Adam optimizer and learning rate 0.1\n",
            "Epoch 1/20, Train Loss: 2.8741, Train Acc: 0.1482, Val Loss: 2.5992, Val Acc: 0.0980\n",
            "Epoch 2/20, Train Loss: 2.0908, Train Acc: 0.1769, Val Loss: 2.2731, Val Acc: 0.1262\n",
            "Epoch 3/20, Train Loss: 2.1473, Train Acc: 0.1683, Val Loss: 2.4564, Val Acc: 0.1032\n",
            "Epoch 4/20, Train Loss: 2.1997, Train Acc: 0.1470, Val Loss: 2.3095, Val Acc: 0.1034\n",
            "Epoch 5/20, Train Loss: 2.3058, Train Acc: 0.0995, Val Loss: 2.3703, Val Acc: 0.1039\n",
            "Epoch 6/20, Train Loss: 2.3060, Train Acc: 0.1029, Val Loss: 2.3053, Val Acc: 0.0996\n",
            "Epoch 7/20, Train Loss: 2.3073, Train Acc: 0.0989, Val Loss: 2.3053, Val Acc: 0.1046\n",
            "Early stopping on epoch 7 with best validation accuracy: 0.1262\n",
            "\n",
            "Training mobilenet with RMSprop optimizer and learning rate 0.1\n",
            "Epoch 1/20, Train Loss: 9.9999, Train Acc: 0.1515, Val Loss: 2.0808, Val Acc: 0.2013\n",
            "Epoch 2/20, Train Loss: 2.1074, Train Acc: 0.1838, Val Loss: 2.0479, Val Acc: 0.2168\n",
            "Epoch 3/20, Train Loss: 2.1005, Train Acc: 0.1855, Val Loss: 2.0741, Val Acc: 0.1889\n",
            "Epoch 4/20, Train Loss: 2.0414, Train Acc: 0.1978, Val Loss: 1.9537, Val Acc: 0.2332\n",
            "Epoch 5/20, Train Loss: 2.0212, Train Acc: 0.2035, Val Loss: 1.9589, Val Acc: 0.2225\n",
            "Epoch 6/20, Train Loss: 2.2894, Train Acc: 0.1474, Val Loss: 2.3111, Val Acc: 0.0980\n",
            "Epoch 7/20, Train Loss: 2.3080, Train Acc: 0.1003, Val Loss: 2.3033, Val Acc: 0.1034\n",
            "Epoch 8/20, Train Loss: 2.3082, Train Acc: 0.0983, Val Loss: 2.3135, Val Acc: 0.0996\n",
            "Epoch 9/20, Train Loss: 2.3083, Train Acc: 0.0990, Val Loss: 2.3124, Val Acc: 0.0996\n",
            "Early stopping on epoch 9 with best validation accuracy: 0.2332\n",
            "\n",
            "Training mobilenet with SGD optimizer and learning rate 0.01\n",
            "Epoch 1/20, Train Loss: 1.1593, Train Acc: 0.5930, Val Loss: 1.1990, Val Acc: 0.5610\n",
            "Epoch 2/20, Train Loss: 0.8048, Train Acc: 0.7207, Val Loss: 1.1187, Val Acc: 0.6067\n",
            "Epoch 3/20, Train Loss: 0.7468, Train Acc: 0.7416, Val Loss: 0.9012, Val Acc: 0.6832\n",
            "Epoch 4/20, Train Loss: 0.7174, Train Acc: 0.7513, Val Loss: 1.0104, Val Acc: 0.6457\n",
            "Epoch 5/20, Train Loss: 0.7234, Train Acc: 0.7520, Val Loss: 0.8711, Val Acc: 0.7051\n",
            "Epoch 6/20, Train Loss: 0.7522, Train Acc: 0.7418, Val Loss: 0.9527, Val Acc: 0.6707\n",
            "Epoch 7/20, Train Loss: 0.7914, Train Acc: 0.7277, Val Loss: 0.9879, Val Acc: 0.6667\n",
            "Epoch 8/20, Train Loss: 0.8231, Train Acc: 0.7194, Val Loss: 1.2895, Val Acc: 0.5581\n",
            "Epoch 9/20, Train Loss: 0.8389, Train Acc: 0.7137, Val Loss: 0.9449, Val Acc: 0.6818\n",
            "Epoch 10/20, Train Loss: 0.8563, Train Acc: 0.7101, Val Loss: 1.0498, Val Acc: 0.6409\n",
            "Early stopping on epoch 10 with best validation accuracy: 0.7051\n",
            "\n",
            "Training mobilenet with Adam optimizer and learning rate 0.01\n",
            "Epoch 1/20, Train Loss: 2.3601, Train Acc: 0.1642, Val Loss: 2.2416, Val Acc: 0.1295\n",
            "Epoch 2/20, Train Loss: 1.9319, Train Acc: 0.2277, Val Loss: 2.0604, Val Acc: 0.1808\n",
            "Epoch 3/20, Train Loss: 1.7628, Train Acc: 0.2952, Val Loss: 1.8357, Val Acc: 0.2840\n",
            "Epoch 4/20, Train Loss: 1.6209, Train Acc: 0.3617, Val Loss: 3.4351, Val Acc: 0.2408\n",
            "Epoch 5/20, Train Loss: 1.5667, Train Acc: 0.3831, Val Loss: 1.8915, Val Acc: 0.2749\n",
            "Epoch 6/20, Train Loss: 1.5157, Train Acc: 0.4168, Val Loss: 3.4885, Val Acc: 0.1530\n",
            "Epoch 7/20, Train Loss: 1.4890, Train Acc: 0.4325, Val Loss: 2.6673, Val Acc: 0.2371\n",
            "Epoch 8/20, Train Loss: 1.4807, Train Acc: 0.4431, Val Loss: 2.1162, Val Acc: 0.2602\n",
            "Early stopping on epoch 8 with best validation accuracy: 0.2840\n",
            "\n",
            "Training mobilenet with RMSprop optimizer and learning rate 0.01\n",
            "Epoch 1/20, Train Loss: 3.2203, Train Acc: 0.1187, Val Loss: 2.3522, Val Acc: 0.1222\n",
            "Epoch 2/20, Train Loss: 2.5375, Train Acc: 0.1533, Val Loss: 2.2883, Val Acc: 0.1176\n",
            "Epoch 3/20, Train Loss: 2.2902, Train Acc: 0.1823, Val Loss: 2.0308, Val Acc: 0.2141\n",
            "Epoch 4/20, Train Loss: 2.1306, Train Acc: 0.2013, Val Loss: 1.9552, Val Acc: 0.2388\n",
            "Epoch 5/20, Train Loss: 1.9260, Train Acc: 0.2339, Val Loss: 1.8963, Val Acc: 0.2243\n",
            "Epoch 6/20, Train Loss: 1.8652, Train Acc: 0.2653, Val Loss: 2.8737, Val Acc: 0.1781\n",
            "Epoch 7/20, Train Loss: 1.7718, Train Acc: 0.3098, Val Loss: 2.0047, Val Acc: 0.2973\n",
            "Epoch 8/20, Train Loss: 1.5945, Train Acc: 0.3890, Val Loss: 1.6518, Val Acc: 0.3840\n",
            "Epoch 9/20, Train Loss: 1.4973, Train Acc: 0.4383, Val Loss: 1.4838, Val Acc: 0.4268\n",
            "Epoch 10/20, Train Loss: 1.3951, Train Acc: 0.4845, Val Loss: 1.4160, Val Acc: 0.4611\n",
            "Epoch 11/20, Train Loss: 1.3929, Train Acc: 0.4935, Val Loss: 1.4398, Val Acc: 0.4702\n",
            "Epoch 12/20, Train Loss: 1.2743, Train Acc: 0.5361, Val Loss: 1.3032, Val Acc: 0.5232\n",
            "Epoch 13/20, Train Loss: 1.2217, Train Acc: 0.5572, Val Loss: 1.3037, Val Acc: 0.5415\n",
            "Epoch 14/20, Train Loss: 1.1794, Train Acc: 0.5760, Val Loss: 1.4501, Val Acc: 0.5051\n",
            "Epoch 15/20, Train Loss: 1.1256, Train Acc: 0.5963, Val Loss: 1.1461, Val Acc: 0.5934\n",
            "Epoch 16/20, Train Loss: 1.0912, Train Acc: 0.6105, Val Loss: 1.1600, Val Acc: 0.5932\n",
            "Epoch 17/20, Train Loss: 1.0431, Train Acc: 0.6298, Val Loss: 1.1207, Val Acc: 0.6037\n",
            "Epoch 18/20, Train Loss: 1.0058, Train Acc: 0.6411, Val Loss: 1.1597, Val Acc: 0.6054\n",
            "Epoch 19/20, Train Loss: 0.9772, Train Acc: 0.6550, Val Loss: 1.1582, Val Acc: 0.6049\n",
            "Epoch 20/20, Train Loss: 0.9596, Train Acc: 0.6623, Val Loss: 1.0917, Val Acc: 0.6197\n",
            "\n",
            "Training mobilenet with SGD optimizer and learning rate 0.001\n",
            "Epoch 1/20, Train Loss: 1.4910, Train Acc: 0.4622, Val Loss: 1.1159, Val Acc: 0.5980\n",
            "Epoch 2/20, Train Loss: 1.0379, Train Acc: 0.6284, Val Loss: 0.9291, Val Acc: 0.6695\n",
            "Epoch 3/20, Train Loss: 0.8987, Train Acc: 0.6815, Val Loss: 0.8461, Val Acc: 0.7006\n",
            "Epoch 4/20, Train Loss: 0.8095, Train Acc: 0.7137, Val Loss: 0.7717, Val Acc: 0.7295\n",
            "Epoch 5/20, Train Loss: 0.7541, Train Acc: 0.7325, Val Loss: 0.7293, Val Acc: 0.7427\n",
            "Epoch 6/20, Train Loss: 0.7112, Train Acc: 0.7505, Val Loss: 0.7166, Val Acc: 0.7522\n",
            "Epoch 7/20, Train Loss: 0.6659, Train Acc: 0.7662, Val Loss: 0.6781, Val Acc: 0.7647\n",
            "Epoch 8/20, Train Loss: 0.6347, Train Acc: 0.7768, Val Loss: 0.6499, Val Acc: 0.7749\n",
            "Epoch 9/20, Train Loss: 0.6102, Train Acc: 0.7874, Val Loss: 0.6194, Val Acc: 0.7827\n",
            "Epoch 10/20, Train Loss: 0.5855, Train Acc: 0.7947, Val Loss: 0.6040, Val Acc: 0.7898\n",
            "Epoch 11/20, Train Loss: 0.5687, Train Acc: 0.7982, Val Loss: 0.5938, Val Acc: 0.7925\n",
            "Epoch 12/20, Train Loss: 0.5484, Train Acc: 0.8069, Val Loss: 0.5890, Val Acc: 0.7919\n",
            "Epoch 13/20, Train Loss: 0.5301, Train Acc: 0.8141, Val Loss: 0.5807, Val Acc: 0.7978\n",
            "Epoch 14/20, Train Loss: 0.5126, Train Acc: 0.8196, Val Loss: 0.5729, Val Acc: 0.8008\n",
            "Epoch 15/20, Train Loss: 0.4958, Train Acc: 0.8256, Val Loss: 0.5601, Val Acc: 0.8026\n",
            "Epoch 16/20, Train Loss: 0.4795, Train Acc: 0.8306, Val Loss: 0.5566, Val Acc: 0.8068\n",
            "Epoch 17/20, Train Loss: 0.4702, Train Acc: 0.8357, Val Loss: 0.5493, Val Acc: 0.8117\n",
            "Epoch 18/20, Train Loss: 0.4605, Train Acc: 0.8383, Val Loss: 0.5472, Val Acc: 0.8087\n",
            "Epoch 19/20, Train Loss: 0.4435, Train Acc: 0.8458, Val Loss: 0.5294, Val Acc: 0.8106\n",
            "Epoch 20/20, Train Loss: 0.4339, Train Acc: 0.8466, Val Loss: 0.5313, Val Acc: 0.8175\n",
            "\n",
            "Training mobilenet with Adam optimizer and learning rate 0.001\n",
            "Epoch 1/20, Train Loss: 1.1140, Train Acc: 0.6119, Val Loss: 1.1324, Val Acc: 0.6209\n",
            "Epoch 2/20, Train Loss: 0.8552, Train Acc: 0.7114, Val Loss: 1.0753, Val Acc: 0.6448\n",
            "Epoch 3/20, Train Loss: 0.7992, Train Acc: 0.7300, Val Loss: 0.9512, Val Acc: 0.6787\n",
            "Epoch 4/20, Train Loss: 0.7757, Train Acc: 0.7382, Val Loss: 0.8094, Val Acc: 0.7284\n",
            "Epoch 5/20, Train Loss: 0.7399, Train Acc: 0.7517, Val Loss: 0.8415, Val Acc: 0.7234\n",
            "Epoch 6/20, Train Loss: 0.7321, Train Acc: 0.7549, Val Loss: 0.8035, Val Acc: 0.7286\n",
            "Epoch 7/20, Train Loss: 0.7109, Train Acc: 0.7627, Val Loss: 0.8065, Val Acc: 0.7326\n",
            "Epoch 8/20, Train Loss: 0.7058, Train Acc: 0.7630, Val Loss: 0.7926, Val Acc: 0.7288\n",
            "Epoch 9/20, Train Loss: 0.7005, Train Acc: 0.7656, Val Loss: 0.7804, Val Acc: 0.7455\n",
            "Epoch 10/20, Train Loss: 0.6877, Train Acc: 0.7740, Val Loss: 0.7777, Val Acc: 0.7327\n",
            "Epoch 11/20, Train Loss: 0.6930, Train Acc: 0.7714, Val Loss: 0.7695, Val Acc: 0.7464\n",
            "Epoch 12/20, Train Loss: 0.6982, Train Acc: 0.7724, Val Loss: 0.9680, Val Acc: 0.6890\n",
            "Epoch 13/20, Train Loss: 0.6884, Train Acc: 0.7753, Val Loss: 0.7740, Val Acc: 0.7401\n",
            "Epoch 14/20, Train Loss: 0.6832, Train Acc: 0.7772, Val Loss: 0.7698, Val Acc: 0.7421\n",
            "Epoch 15/20, Train Loss: 0.6792, Train Acc: 0.7791, Val Loss: 0.7641, Val Acc: 0.7463\n",
            "Epoch 16/20, Train Loss: 0.6876, Train Acc: 0.7740, Val Loss: 0.7692, Val Acc: 0.7442\n",
            "Early stopping on epoch 16 with best validation accuracy: 0.7464\n",
            "\n",
            "Training mobilenet with RMSprop optimizer and learning rate 0.001\n",
            "Epoch 1/20, Train Loss: 1.5310, Train Acc: 0.4597, Val Loss: 1.1193, Val Acc: 0.6048\n",
            "Epoch 2/20, Train Loss: 0.9733, Train Acc: 0.6622, Val Loss: 0.9535, Val Acc: 0.6733\n",
            "Epoch 3/20, Train Loss: 0.8769, Train Acc: 0.7012, Val Loss: 0.8219, Val Acc: 0.7184\n",
            "Epoch 4/20, Train Loss: 0.8202, Train Acc: 0.7217, Val Loss: 0.7755, Val Acc: 0.7279\n",
            "Epoch 5/20, Train Loss: 0.7766, Train Acc: 0.7329, Val Loss: 0.6987, Val Acc: 0.7602\n",
            "Epoch 6/20, Train Loss: 0.7219, Train Acc: 0.7523, Val Loss: 0.7082, Val Acc: 0.7547\n",
            "Epoch 7/20, Train Loss: 0.6822, Train Acc: 0.7645, Val Loss: 0.6544, Val Acc: 0.7739\n",
            "Epoch 8/20, Train Loss: 0.6425, Train Acc: 0.7791, Val Loss: 0.7018, Val Acc: 0.7602\n",
            "Epoch 9/20, Train Loss: 0.6194, Train Acc: 0.7837, Val Loss: 0.6147, Val Acc: 0.7887\n",
            "Epoch 10/20, Train Loss: 0.5722, Train Acc: 0.8029, Val Loss: 0.6680, Val Acc: 0.7728\n",
            "Epoch 11/20, Train Loss: 0.5490, Train Acc: 0.8100, Val Loss: 0.5870, Val Acc: 0.7958\n",
            "Epoch 12/20, Train Loss: 0.5315, Train Acc: 0.8133, Val Loss: 0.5706, Val Acc: 0.8007\n",
            "Epoch 13/20, Train Loss: 0.5223, Train Acc: 0.8174, Val Loss: 0.5941, Val Acc: 0.7943\n",
            "Epoch 14/20, Train Loss: 0.5232, Train Acc: 0.8223, Val Loss: 0.5820, Val Acc: 0.8012\n",
            "Epoch 15/20, Train Loss: 0.4835, Train Acc: 0.8321, Val Loss: 0.5688, Val Acc: 0.8040\n",
            "Epoch 16/20, Train Loss: 0.4686, Train Acc: 0.8368, Val Loss: 0.5595, Val Acc: 0.8083\n",
            "Epoch 17/20, Train Loss: 0.5439, Train Acc: 0.8158, Val Loss: 0.9589, Val Acc: 0.7485\n",
            "Epoch 18/20, Train Loss: 0.5870, Train Acc: 0.7971, Val Loss: 0.5615, Val Acc: 0.8083\n",
            "Epoch 19/20, Train Loss: 0.4733, Train Acc: 0.8344, Val Loss: 0.5164, Val Acc: 0.8208\n",
            "Epoch 20/20, Train Loss: 0.5174, Train Acc: 0.8253, Val Loss: 0.5438, Val Acc: 0.8134\n",
            "\n",
            "Best configuration: Model=mobilenet, Learning Rate=0.001, Optimizer=RMSprop\n",
            "Best Validation Accuracy: 0.8208\n"
          ]
        }
      ]
    },
    {
      "cell_type": "code",
      "source": [
        "# Compare the best validation accuracies from all three models\n",
        "best_model_info = {\n",
        "    'resnet18': (best_resnet_val_accuracy, best_resnet_config, results_restnet),\n",
        "    'alexnet': (best_alexnet_val_accuracy, best_alexnet_config, results_alexnet),\n",
        "    'mobilenet': (best_mobilenet_val_accuracy, best_mobilenet_config, results_mobilenet)\n",
        "}\n",
        "\n",
        "# Get the model with the highest validation accuracy\n",
        "best_model_name = max(best_model_info, key=lambda x: best_model_info[x][0])\n",
        "best_model_accuracy, best_model_config, best_model_results = best_model_info[best_model_name]\n",
        "\n",
        "# Print the best model, its configuration, and its results\n",
        "print(f\"\\nBest model based on validation accuracy: {best_model_name}\")\n",
        "print(f\"Best Model Configuration: Model={best_model_config[0]}, Learning Rate={best_model_config[1]}, Optimizer={best_model_config[2]}\")\n",
        "print(f\"Best Validation Accuracy: {best_model_accuracy}\")"
      ],
      "metadata": {
        "id": "3kRZ26cpL4_u",
        "colab": {
          "base_uri": "https://localhost:8080/"
        },
        "outputId": "7f864f4c-99e9-4ce3-e0d1-455dc3809b15"
      },
      "execution_count": 15,
      "outputs": [
        {
          "output_type": "stream",
          "name": "stdout",
          "text": [
            "\n",
            "Best model based on validation accuracy: resnet18\n",
            "Best Model Configuration: Model=resnet18, Learning Rate=0.001, Optimizer=SGD\n",
            "Best Validation Accuracy: 0.9199\n"
          ]
        }
      ]
    },
    {
      "cell_type": "code",
      "source": [
        "# Unpack the training and validation results for the best model\n",
        "train_loss_history, val_loss_history, train_acc_history, val_acc_history = best_model_results[best_model_config]\n",
        "\n",
        "# Plot training and validation loss\n",
        "plt.figure(figsize=(12, 5))\n",
        "\n",
        "# Loss plot\n",
        "plt.subplot(1, 2, 1)\n",
        "plt.plot(train_loss_history, label='Training Loss', color='blue')\n",
        "plt.plot(val_loss_history, label='Validation Loss', color='orange')\n",
        "plt.xlabel('Epoch')\n",
        "plt.ylabel('Loss')\n",
        "plt.title('Training and Validation Loss')\n",
        "plt.legend()\n",
        "\n",
        "# Accuracy plot\n",
        "plt.subplot(1, 2, 2)\n",
        "plt.plot(train_acc_history, label='Training Accuracy', color='blue')\n",
        "plt.plot(val_acc_history, label='Validation Accuracy', color='orange')\n",
        "plt.xlabel('Epoch')\n",
        "plt.ylabel('Accuracy')\n",
        "plt.title('Training and Validation Accuracy')\n",
        "plt.legend()\n",
        "\n",
        "plt.tight_layout()\n",
        "plt.show()"
      ],
      "metadata": {
        "colab": {
          "base_uri": "https://localhost:8080/",
          "height": 507
        },
        "id": "iaEsNJShjF8n",
        "outputId": "9096f1e5-b451-4e5f-8328-4ee1fbccd0ab"
      },
      "execution_count": 16,
      "outputs": [
        {
          "output_type": "display_data",
          "data": {
            "text/plain": [
              "<Figure size 1200x500 with 2 Axes>"
            ],
            "image/png": "[encoded data removed]"
          },
          "metadata": {}
        }
      ]
    },
    {
      "cell_type": "markdown",
      "source": [
        "# 4. Evaluate the best model"
      ],
      "metadata": {
        "id": "GJ-80dlGxFv-"
      }
    },
    {
      "cell_type": "code",
      "source": [
        "# Retrain the best model\n",
        "best_model = initialize_model(best_model_name).to(device)\n",
        "criterion = nn.CrossEntropyLoss()\n",
        "num_epochs = 2\n",
        "lr = best_model_config[1]\n",
        "opt = best_model_config[2]\n",
        "if opt == 'Adam':\n",
        "    optimizer = optim.Adam(best_model.parameters(), lr=lr, weight_decay=0.01)\n",
        "elif opt == 'SGD':\n",
        "    optimizer = optim.SGD(best_model.parameters(), lr=lr, momentum=0.9, weight_decay=0.01)\n",
        "else:\n",
        "    optimizer = optim.RMSprop(best_model.parameters(), lr=lr)\n",
        "\n",
        "for epoch in range(num_epochs):\n",
        "    best_model, _, _ = train_model(best_model, train_loader, criterion, optimizer)"
      ],
      "metadata": {
        "id": "P17mVO0hOyL2"
      },
      "execution_count": 26,
      "outputs": []
    },
    {
      "cell_type": "code",
      "source": [
        "# best_model = initialize_model(best_model_name).to(device)\n",
        "best_model.eval()\n",
        "\n",
        "# Lists to store test predictions and true labels\n",
        "all_preds = []\n",
        "all_labels = []\n",
        "\n",
        "# Run predictions on the test set\n",
        "correct, total = 0, 0\n",
        "with torch.no_grad():\n",
        "    for images, labels in test_loader:\n",
        "        images, labels = images.to(device), labels.to(device)\n",
        "\n",
        "        # Get predictions\n",
        "        outputs = best_model(images)\n",
        "        _, predicted = torch.max(outputs, 1)\n",
        "\n",
        "        # Append predictions and true labels\n",
        "        all_preds.extend(predicted.cpu().numpy())\n",
        "        all_labels.extend(labels.cpu().numpy())\n",
        "\n",
        "# Convert lists to numpy arrays for metrics calculation\n",
        "all_preds = np.array(all_preds)\n",
        "all_labels = np.array(all_labels)\n",
        "\n",
        "# Calculate performance metrics\n",
        "accuracy = accuracy_score(all_labels, all_preds)\n",
        "precision = precision_score(all_labels, all_preds, average='weighted')\n",
        "recall = recall_score(all_labels, all_preds, average='weighted')\n",
        "f1 = f1_score(all_labels, all_preds, average='weighted')\n",
        "\n",
        "# Print overall metrics\n",
        "print(f\"Test Accuracy: {accuracy * 100:.2f}%\")\n",
        "print(f\"Test Precision: {precision * 100:.2f}%\")\n",
        "print(f\"Test Recall: {recall * 100:.2f}%\")\n",
        "print(f\"Test F1 Score: {f1 * 100:.2f}%\")\n",
        "\n",
        "# Print detailed classification report\n",
        "print(\"\\nClassification Report:\")\n",
        "print(classification_report(all_labels, all_preds, target_names=[\n",
        "    'airplane', 'automobile', 'bird', 'cat', 'deer', 'dog', 'frog', 'horse', 'ship', 'truck'\n",
        "]))"
      ],
      "metadata": {
        "id": "Bn2i1D9qO3wh",
        "colab": {
          "base_uri": "https://localhost:8080/"
        },
        "outputId": "e831f6e0-be2d-4f25-9f91-15482b0686e7"
      },
      "execution_count": 27,
      "outputs": [
        {
          "output_type": "stream",
          "name": "stdout",
          "text": [
            "Test Accuracy: 72.79%\n",
            "Test Precision: 72.69%\n",
            "Test Recall: 72.79%\n",
            "Test F1 Score: 72.64%\n",
            "\n",
            "Classification Report:\n",
            "              precision    recall  f1-score   support\n",
            "\n",
            "    airplane       0.74      0.81      0.77      1000\n",
            "  automobile       0.80      0.89      0.85      1000\n",
            "        bird       0.63      0.59      0.61      1000\n",
            "         cat       0.56      0.53      0.55      1000\n",
            "        deer       0.66      0.64      0.65      1000\n",
            "         dog       0.69      0.66      0.67      1000\n",
            "        frog       0.75      0.81      0.78      1000\n",
            "       horse       0.72      0.77      0.75      1000\n",
            "        ship       0.87      0.81      0.84      1000\n",
            "       truck       0.85      0.77      0.81      1000\n",
            "\n",
            "    accuracy                           0.73     10000\n",
            "   macro avg       0.73      0.73      0.73     10000\n",
            "weighted avg       0.73      0.73      0.73     10000\n",
            "\n"
          ]
        }
      ]
    },
    {
      "cell_type": "code",
      "source": [],
      "metadata": {
        "id": "tRbRRCLOzWIn"
      },
      "execution_count": null,
      "outputs": []
    }
  ]
}